{
 "metadata": {
  "language_info": {
   "codemirror_mode": {
    "name": "ipython",
    "version": 3
   },
   "file_extension": ".py",
   "mimetype": "text/x-python",
   "name": "python",
   "nbconvert_exporter": "python",
   "pygments_lexer": "ipython3",
   "version": "3.8.8"
  },
  "orig_nbformat": 2,
  "kernelspec": {
   "name": "python3",
   "display_name": "Python 3.8.8 64-bit ('base': conda)"
  },
  "interpreter": {
   "hash": "df1eb04c3f47b0c69eb390eea269ca5234b26df5d1c268a777f47e61c3eb74f9"
  }
 },
 "nbformat": 4,
 "nbformat_minor": 2,
 "cells": [
  {
   "source": [
    "# Data Processing"
   ],
   "cell_type": "markdown",
   "metadata": {}
  },
  {
   "cell_type": "code",
   "execution_count": 30,
   "metadata": {},
   "outputs": [
    {
     "output_type": "execute_result",
     "data": {
      "text/plain": [
       "           state                       date  temperature  max_temp  min_temp  \\\n",
       "0  California,US  2020-09-01T00:00:00-07:00         21.5      31.2      15.1   \n",
       "1  California,US  2020-09-02T00:00:00-07:00         20.8      29.2      15.1   \n",
       "2  California,US  2020-09-03T00:00:00-07:00         21.8      32.4      14.5   \n",
       "3  California,US  2020-09-04T00:00:00-07:00         23.5      34.2      14.3   \n",
       "4  California,US  2020-09-05T00:00:00-07:00         26.9      37.8      16.3   \n",
       "\n",
       "   windspeed  cloud_cover  precipitation   weather_type  snow conditions  \\\n",
       "0       22.3          2.3            0.0  Smoke Or Haze   0.0      Clear   \n",
       "1       16.8          0.0            0.0                  0.0      Clear   \n",
       "2       16.8          1.5            0.0                  0.0      Clear   \n",
       "3        9.4          2.5            0.0  Smoke Or Haze   0.0      Clear   \n",
       "4        9.8          2.9            0.0  Smoke Or Haze   0.0      Clear   \n",
       "\n",
       "  windchill  \n",
       "0      None  \n",
       "1      None  \n",
       "2      None  \n",
       "3      None  \n",
       "4      None  "
      ],
      "text/html": "<div>\n<style scoped>\n    .dataframe tbody tr th:only-of-type {\n        vertical-align: middle;\n    }\n\n    .dataframe tbody tr th {\n        vertical-align: top;\n    }\n\n    .dataframe thead th {\n        text-align: right;\n    }\n</style>\n<table border=\"1\" class=\"dataframe\">\n  <thead>\n    <tr style=\"text-align: right;\">\n      <th></th>\n      <th>state</th>\n      <th>date</th>\n      <th>temperature</th>\n      <th>max_temp</th>\n      <th>min_temp</th>\n      <th>windspeed</th>\n      <th>cloud_cover</th>\n      <th>precipitation</th>\n      <th>weather_type</th>\n      <th>snow</th>\n      <th>conditions</th>\n      <th>windchill</th>\n    </tr>\n  </thead>\n  <tbody>\n    <tr>\n      <th>0</th>\n      <td>California,US</td>\n      <td>2020-09-01T00:00:00-07:00</td>\n      <td>21.5</td>\n      <td>31.2</td>\n      <td>15.1</td>\n      <td>22.3</td>\n      <td>2.3</td>\n      <td>0.0</td>\n      <td>Smoke Or Haze</td>\n      <td>0.0</td>\n      <td>Clear</td>\n      <td>None</td>\n    </tr>\n    <tr>\n      <th>1</th>\n      <td>California,US</td>\n      <td>2020-09-02T00:00:00-07:00</td>\n      <td>20.8</td>\n      <td>29.2</td>\n      <td>15.1</td>\n      <td>16.8</td>\n      <td>0.0</td>\n      <td>0.0</td>\n      <td></td>\n      <td>0.0</td>\n      <td>Clear</td>\n      <td>None</td>\n    </tr>\n    <tr>\n      <th>2</th>\n      <td>California,US</td>\n      <td>2020-09-03T00:00:00-07:00</td>\n      <td>21.8</td>\n      <td>32.4</td>\n      <td>14.5</td>\n      <td>16.8</td>\n      <td>1.5</td>\n      <td>0.0</td>\n      <td></td>\n      <td>0.0</td>\n      <td>Clear</td>\n      <td>None</td>\n    </tr>\n    <tr>\n      <th>3</th>\n      <td>California,US</td>\n      <td>2020-09-04T00:00:00-07:00</td>\n      <td>23.5</td>\n      <td>34.2</td>\n      <td>14.3</td>\n      <td>9.4</td>\n      <td>2.5</td>\n      <td>0.0</td>\n      <td>Smoke Or Haze</td>\n      <td>0.0</td>\n      <td>Clear</td>\n      <td>None</td>\n    </tr>\n    <tr>\n      <th>4</th>\n      <td>California,US</td>\n      <td>2020-09-05T00:00:00-07:00</td>\n      <td>26.9</td>\n      <td>37.8</td>\n      <td>16.3</td>\n      <td>9.8</td>\n      <td>2.9</td>\n      <td>0.0</td>\n      <td>Smoke Or Haze</td>\n      <td>0.0</td>\n      <td>Clear</td>\n      <td>None</td>\n    </tr>\n  </tbody>\n</table>\n</div>"
     },
     "metadata": {},
     "execution_count": 30
    }
   ],
   "source": [
    "#Columns\n",
    "\n",
    "# temp: temperature\n",
    "# maxt: max temp\n",
    "# mint: min temp\n",
    "# wspd: windspeed\n",
    "# datetimeStr: date\n",
    "# cloudcover: cloud cover\n",
    "# precip: precipitation\n",
    "# weathertype : weather type\n",
    "# snow: snow in cm\n",
    "# conditions: 'rain partially cloudy etc'\n",
    "# windchill: windchill in deg c\n",
    "\n",
    "import pandas as pd\n",
    "import requests\n",
    "import time\n",
    "\n",
    "# API KEY\n",
    "\n",
    "#States to query\n",
    "States = [\"California\",\"Florida\",\"Alabama\",\"Arkansas\",\"Maine\",\"Texas\",\"Kansas\",\"New York\",\"Rhode Island\",\"Virginia\",\"Pennsylvania\",\"Kentucky\",\"Ohio\",\"Vermont\",\"Georgia\",\"Hawaii\",\"Arizona\",\"New Hampshire\",\"Maryland\",\"Nebraska\",\"New Jersey\",\"Illinois\",\"Idaho\",\"Oklahoma\",\"Nevada\",\"Missouri\",\"Montana\",\"South Carolina\",\"Utah\",\"North Carolina\",\"Colorado\",\"Connecticut\",\"South Dakota\",\"Wyoming\",\"Louisiana\",\"Indiana\",\"Alaska\",\"Delaware\",\"Washington\",\"District of Columbia\",\"Wisconsin\",\"Oregon\",\"Michigan\",\"West Virginia\",\"Tennessee\",\"New Mexico\",\"North Dakota\",\"Iowa\",\"Minnesota\",\"Mississippi\",\"Massachusetts\"]\n",
    "\n",
    "# remember to take this out after the first loop\n",
    "weather_df = pd.DataFrame(columns=['state', 'date', 'temperature', 'max_temp', 'min_temp', 'windspeed', 'cloud_cover', 'precipitation', 'weather_type', 'snow','conditions', 'windchill'])\n",
    "\n",
    "#starting date\n",
    "date1 = '2020-09-01'\n",
    "#ending date\n",
    "date2 = '2021-03-01'\n",
    "\n",
    "for state in States:\n",
    "    url = f\"https://weather.visualcrossing.com/VisualCrossingWebServices/rest/services/weatherdata/history?&aggregateHours=24&startDateTime={date1}T00:00:00&endDateTime={date2}T00:00:00&unitGroup=metric&contentType=json&dayStartTime=0:0:00&dayEndTime=0:0:00&location={state},US&key={API_KEY}\"\n",
    "    \n",
    "    response = requests.get(url).json()\n",
    "\n",
    "    list_locations = list(response['locations'].keys())\n",
    "\n",
    "    for location in list_locations:\n",
    "        for item in response['locations'][location]['values']:\n",
    "            state = location\n",
    "            date = item['datetimeStr']\n",
    "            temperature = item['temp']\n",
    "            max_temp = item['maxt']\n",
    "            min_temp = item['mint']\n",
    "            windspeed = item['wspd']\n",
    "            cloud_cover = item['cloudcover']\n",
    "            precipitation = item['precip']\n",
    "            weather_type = item['weathertype']\n",
    "            snow = item['snow']\n",
    "            conditions = item['conditions']\n",
    "            windchill = item['windchill']\n",
    "\n",
    "            weather_df = weather_df.append({'state':location, 'date':date, 'temperature':temperature, 'max_temp':max_temp, 'min_temp':min_temp, 'windspeed':windspeed,\n",
    "'cloud_cover':cloud_cover, 'precipitation':precipitation, 'weather_type':weather_type, 'snow':snow,'conditions':conditions,'windchill':windchill}, ignore_index =True)\n",
    "\n",
    "weather_df.head()\n"
   ]
  },
  {
   "cell_type": "code",
   "execution_count": 31,
   "metadata": {},
   "outputs": [
    {
     "output_type": "stream",
     "name": "stdout",
     "text": [
      "<class 'pandas.core.frame.DataFrame'>\nRangeIndex: 9282 entries, 0 to 9281\nData columns (total 12 columns):\n #   Column         Non-Null Count  Dtype  \n---  ------         --------------  -----  \n 0   state          9282 non-null   object \n 1   date           9282 non-null   object \n 2   temperature    9282 non-null   float64\n 3   max_temp       9282 non-null   float64\n 4   min_temp       9282 non-null   float64\n 5   windspeed      9282 non-null   float64\n 6   cloud_cover    9282 non-null   float64\n 7   precipitation  9282 non-null   float64\n 8   weather_type   9282 non-null   object \n 9   snow           9282 non-null   float64\n 10  conditions     9282 non-null   object \n 11  windchill      6639 non-null   object \ndtypes: float64(7), object(5)\nmemory usage: 870.3+ KB\n"
     ]
    }
   ],
   "source": [
    "weather_df.info()"
   ]
  },
  {
   "cell_type": "code",
   "execution_count": 35,
   "metadata": {},
   "outputs": [
    {
     "output_type": "execute_result",
     "data": {
      "text/plain": [
       "51"
      ]
     },
     "metadata": {},
     "execution_count": 35
    }
   ],
   "source": [
    "#there are 51 states data in the dataframe\n",
    "len(weather_df.state.unique())"
   ]
  },
  {
   "cell_type": "code",
   "execution_count": 34,
   "metadata": {},
   "outputs": [
    {
     "output_type": "execute_result",
     "data": {
      "text/plain": [
       "               state                       date  temperature  max_temp  \\\n",
       "8918  Mississippi,US  2020-09-01T00:00:00-05:00         28.7      33.7   \n",
       "8919  Mississippi,US  2020-09-02T00:00:00-05:00         28.9      33.9   \n",
       "8920  Mississippi,US  2020-09-03T00:00:00-05:00         27.8      32.9   \n",
       "8921  Mississippi,US  2020-09-04T00:00:00-05:00         28.8      34.5   \n",
       "8922  Mississippi,US  2020-09-05T00:00:00-05:00         28.1      32.9   \n",
       "...              ...                        ...          ...       ...   \n",
       "9095  Mississippi,US  2021-02-25T00:00:00-06:00         18.0      21.6   \n",
       "9096  Mississippi,US  2021-02-26T00:00:00-06:00         19.1      25.4   \n",
       "9097  Mississippi,US  2021-02-27T00:00:00-06:00         22.5      26.0   \n",
       "9098  Mississippi,US  2021-02-28T00:00:00-06:00         23.2      27.1   \n",
       "9099  Mississippi,US  2021-03-01T00:00:00-06:00         14.2      19.7   \n",
       "\n",
       "      min_temp  windspeed  cloud_cover  precipitation  \\\n",
       "8918      25.0       20.5         34.7           0.21   \n",
       "8919      25.5       18.9         32.4           0.00   \n",
       "8920      23.0       12.9         17.1           0.00   \n",
       "8921      23.2       10.4         22.3           0.00   \n",
       "8922      24.7       13.8          8.9           0.00   \n",
       "...        ...        ...          ...            ...   \n",
       "9095      14.9       11.0         89.6           1.53   \n",
       "9096      13.3       23.3         65.8           0.00   \n",
       "9097      19.0       22.1         71.7           0.01   \n",
       "9098      20.6       28.2         74.5          10.43   \n",
       "9099       8.5       17.2         96.2          22.63   \n",
       "\n",
       "                              weather_type  snow              conditions  \\\n",
       "8918                                  Mist   0.0  Rain, Partially cloudy   \n",
       "8919                                  Mist   0.0        Partially cloudy   \n",
       "8920                                  Mist   0.0                   Clear   \n",
       "8921                      Mist, Light Rain   0.0                   Clear   \n",
       "8922                                         0.0                   Clear   \n",
       "...                                    ...   ...                     ...   \n",
       "9095  Mist, Fog, Light Rain, Smoke Or Haze   0.0          Rain, Overcast   \n",
       "9096                            Light Rain   0.0        Partially cloudy   \n",
       "9097                                         0.0  Rain, Partially cloudy   \n",
       "9098    Mist, Rain, Heavy Rain, Light Rain   0.0  Rain, Partially cloudy   \n",
       "9099    Mist, Rain, Heavy Rain, Light Rain   0.0          Rain, Overcast   \n",
       "\n",
       "     windchill  \n",
       "8918      None  \n",
       "8919      None  \n",
       "8920      None  \n",
       "8921      None  \n",
       "8922      None  \n",
       "...        ...  \n",
       "9095      None  \n",
       "9096      None  \n",
       "9097      None  \n",
       "9098      None  \n",
       "9099       6.5  \n",
       "\n",
       "[182 rows x 12 columns]"
      ],
      "text/html": "<div>\n<style scoped>\n    .dataframe tbody tr th:only-of-type {\n        vertical-align: middle;\n    }\n\n    .dataframe tbody tr th {\n        vertical-align: top;\n    }\n\n    .dataframe thead th {\n        text-align: right;\n    }\n</style>\n<table border=\"1\" class=\"dataframe\">\n  <thead>\n    <tr style=\"text-align: right;\">\n      <th></th>\n      <th>state</th>\n      <th>date</th>\n      <th>temperature</th>\n      <th>max_temp</th>\n      <th>min_temp</th>\n      <th>windspeed</th>\n      <th>cloud_cover</th>\n      <th>precipitation</th>\n      <th>weather_type</th>\n      <th>snow</th>\n      <th>conditions</th>\n      <th>windchill</th>\n    </tr>\n  </thead>\n  <tbody>\n    <tr>\n      <th>8918</th>\n      <td>Mississippi,US</td>\n      <td>2020-09-01T00:00:00-05:00</td>\n      <td>28.7</td>\n      <td>33.7</td>\n      <td>25.0</td>\n      <td>20.5</td>\n      <td>34.7</td>\n      <td>0.21</td>\n      <td>Mist</td>\n      <td>0.0</td>\n      <td>Rain, Partially cloudy</td>\n      <td>None</td>\n    </tr>\n    <tr>\n      <th>8919</th>\n      <td>Mississippi,US</td>\n      <td>2020-09-02T00:00:00-05:00</td>\n      <td>28.9</td>\n      <td>33.9</td>\n      <td>25.5</td>\n      <td>18.9</td>\n      <td>32.4</td>\n      <td>0.00</td>\n      <td>Mist</td>\n      <td>0.0</td>\n      <td>Partially cloudy</td>\n      <td>None</td>\n    </tr>\n    <tr>\n      <th>8920</th>\n      <td>Mississippi,US</td>\n      <td>2020-09-03T00:00:00-05:00</td>\n      <td>27.8</td>\n      <td>32.9</td>\n      <td>23.0</td>\n      <td>12.9</td>\n      <td>17.1</td>\n      <td>0.00</td>\n      <td>Mist</td>\n      <td>0.0</td>\n      <td>Clear</td>\n      <td>None</td>\n    </tr>\n    <tr>\n      <th>8921</th>\n      <td>Mississippi,US</td>\n      <td>2020-09-04T00:00:00-05:00</td>\n      <td>28.8</td>\n      <td>34.5</td>\n      <td>23.2</td>\n      <td>10.4</td>\n      <td>22.3</td>\n      <td>0.00</td>\n      <td>Mist, Light Rain</td>\n      <td>0.0</td>\n      <td>Clear</td>\n      <td>None</td>\n    </tr>\n    <tr>\n      <th>8922</th>\n      <td>Mississippi,US</td>\n      <td>2020-09-05T00:00:00-05:00</td>\n      <td>28.1</td>\n      <td>32.9</td>\n      <td>24.7</td>\n      <td>13.8</td>\n      <td>8.9</td>\n      <td>0.00</td>\n      <td></td>\n      <td>0.0</td>\n      <td>Clear</td>\n      <td>None</td>\n    </tr>\n    <tr>\n      <th>...</th>\n      <td>...</td>\n      <td>...</td>\n      <td>...</td>\n      <td>...</td>\n      <td>...</td>\n      <td>...</td>\n      <td>...</td>\n      <td>...</td>\n      <td>...</td>\n      <td>...</td>\n      <td>...</td>\n      <td>...</td>\n    </tr>\n    <tr>\n      <th>9095</th>\n      <td>Mississippi,US</td>\n      <td>2021-02-25T00:00:00-06:00</td>\n      <td>18.0</td>\n      <td>21.6</td>\n      <td>14.9</td>\n      <td>11.0</td>\n      <td>89.6</td>\n      <td>1.53</td>\n      <td>Mist, Fog, Light Rain, Smoke Or Haze</td>\n      <td>0.0</td>\n      <td>Rain, Overcast</td>\n      <td>None</td>\n    </tr>\n    <tr>\n      <th>9096</th>\n      <td>Mississippi,US</td>\n      <td>2021-02-26T00:00:00-06:00</td>\n      <td>19.1</td>\n      <td>25.4</td>\n      <td>13.3</td>\n      <td>23.3</td>\n      <td>65.8</td>\n      <td>0.00</td>\n      <td>Light Rain</td>\n      <td>0.0</td>\n      <td>Partially cloudy</td>\n      <td>None</td>\n    </tr>\n    <tr>\n      <th>9097</th>\n      <td>Mississippi,US</td>\n      <td>2021-02-27T00:00:00-06:00</td>\n      <td>22.5</td>\n      <td>26.0</td>\n      <td>19.0</td>\n      <td>22.1</td>\n      <td>71.7</td>\n      <td>0.01</td>\n      <td></td>\n      <td>0.0</td>\n      <td>Rain, Partially cloudy</td>\n      <td>None</td>\n    </tr>\n    <tr>\n      <th>9098</th>\n      <td>Mississippi,US</td>\n      <td>2021-02-28T00:00:00-06:00</td>\n      <td>23.2</td>\n      <td>27.1</td>\n      <td>20.6</td>\n      <td>28.2</td>\n      <td>74.5</td>\n      <td>10.43</td>\n      <td>Mist, Rain, Heavy Rain, Light Rain</td>\n      <td>0.0</td>\n      <td>Rain, Partially cloudy</td>\n      <td>None</td>\n    </tr>\n    <tr>\n      <th>9099</th>\n      <td>Mississippi,US</td>\n      <td>2021-03-01T00:00:00-06:00</td>\n      <td>14.2</td>\n      <td>19.7</td>\n      <td>8.5</td>\n      <td>17.2</td>\n      <td>96.2</td>\n      <td>22.63</td>\n      <td>Mist, Rain, Heavy Rain, Light Rain</td>\n      <td>0.0</td>\n      <td>Rain, Overcast</td>\n      <td>6.5</td>\n    </tr>\n  </tbody>\n</table>\n<p>182 rows × 12 columns</p>\n</div>"
     },
     "metadata": {},
     "execution_count": 34
    }
   ],
   "source": [
    "# checking data\n",
    "weather_df[weather_df['state'] == \"Mississippi,US\"]"
   ]
  },
  {
   "cell_type": "code",
   "execution_count": 41,
   "metadata": {},
   "outputs": [],
   "source": [
    "#converting dataframe to csv\n",
    "weather_df.to_csv(\"weather_data.csv\",encoding='utf-8', index=False)"
   ]
  }
 ]
}